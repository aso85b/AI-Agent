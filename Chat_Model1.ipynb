{
  "nbformat": 4,
  "nbformat_minor": 0,
  "metadata": {
    "colab": {
      "provenance": []
    },
    "kernelspec": {
      "name": "python3",
      "display_name": "Python 3"
    },
    "language_info": {
      "name": "python"
    }
  },
  "cells": [
    {
      "cell_type": "markdown",
      "source": [
        "# This is an AI agent built using LangChain and OpenAI, running on a local machine.\n"
      ],
      "metadata": {
        "id": "LZ7EobyYRidW"
      }
    },
    {
      "cell_type": "code",
      "execution_count": null,
      "metadata": {
        "id": "efYTjYNWP5V7"
      },
      "outputs": [],
      "source": [
        "# Install required libraries\n",
        "!pip install openai langchain langchain-community tiktoken"
      ]
    },
    {
      "cell_type": "code",
      "source": [
        "# Import required libraries\n",
        "import openai\n",
        "from langchain.chains import LLMChain\n",
        "from langchain.prompts import PromptTemplate\n",
        "from langchain.llms import OpenAI\n",
        "\n",
        "# Set OpenAI API key\n",
        "# Make a openai-API-key in 'https://platform.openai.com/api-keys'\n",
        "import os\n",
        "os.environ[\"OPENAI_API_KEY\"] = \"openai_API_Key\"  # Replace with your API key\n",
        "\n",
        "# Initialize OpenAI model with LangChain\n",
        "llm = OpenAI(temperature=0.7, model=\"gpt-3.5-turbo\")  # Use \"gpt-3.5-turbo\" or \"gpt-4\"\n",
        "\n",
        "# Define a prompt template\n",
        "template = \"You are a helpful assistant. Answer the following question: {question}\"\n",
        "\n",
        "# Create a LangChain prompt\n",
        "prompt = PromptTemplate(input_variables=[\"question\"], template=template)\n",
        "\n",
        "# Initialize LangChain's LLM chain with the prompt and model\n",
        "chain = LLMChain(llm=llm, prompt=prompt)\n",
        "\n",
        "# Function to interact with the AI agent\n",
        "def ask_question(question):\n",
        "    response = chain.run({\"question\": question})\n",
        "    return response\n",
        "\n",
        "# Example: Ask the AI a question\n",
        "print(\"AI Agent: Hello! Ask me anything what you wish :)\")\n",
        "\n",
        "while True:\n",
        "    user_input = input(\"You: \")\n",
        "\n",
        "    if user_input.lower() in [\"exit\", \"quit\", \"bye\"]:\n",
        "        print(\"AI Agent: Goodbye!\")\n",
        "        break\n",
        "\n",
        "    answer = ask_question(user_input)\n",
        "    print(f\"AI Agent: {answer}\")\n"
      ],
      "metadata": {
        "id": "GWWSIPxLQRu6"
      },
      "execution_count": null,
      "outputs": []
    }
  ]
}